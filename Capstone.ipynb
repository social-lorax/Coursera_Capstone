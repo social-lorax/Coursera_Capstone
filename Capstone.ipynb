{
    "nbformat_minor": 1, 
    "cells": [
        {
            "source": "<h1><center>Clustering NYC Neighborhoods to Determine Service Needs</center></h1> \n<center>Ryan Brenner</center>\n<center>IBM Applied Data Science Capstone</center>\n<center>September 3, 2018</center>", 
            "cell_type": "markdown", 
            "metadata": {
                "collapsed": true
            }
        }, 
        {
            "source": "![](https://www1.nyc.gov/assets/planning/images/content/pages/data-maps/maps-geography/city-neighborhoods/mapview.jpg)", 
            "cell_type": "markdown", 
            "metadata": {}
        }, 
        {
            "source": "## *Introduction*\n***\nBy far the most populous city in the US, New York\u2019s five boroughs are divided into hundreds of neighborhoods. Understanding the uniqueness of each neighborhood allows service providers to deliver what each community needs and businesses to offer what each community demands. Personally gaining such an understanding, however, would require significant on-the-ground research. A more efficient approach is analyzing existing data to see if there is an overarching neighborhood typology. \n\nThe Applied Data Science course from IBM on Coursera used Foursquare data to determine the top businesses in each neighborhood and used those findings to cluster neighborhoods into neighborhood typologies. Since clustering is a form of unsupervised machine learning, it is not possible to assess the model with the data used to create the model. However, it is possible to assess the model using other data to determine if clustering with one dataset is consistent with clustering using another dataset. This project looks at the clustering of New York City neighborhoods using Foursquare data and compares it to 311 service complaints from each neighborhood. This analysis will help determine whether the Foursquare cluster groups are correlated with the top service requests from each neighborhood. This information will help determine whether Foursquare data can be used by service providers to anticipate community requests.", 
            "cell_type": "markdown", 
            "metadata": {}
        }, 
        {
            "source": "## *Data*\n***\nData used for this project comes from two sources: Foursquare and NYC 311. \n\n<img src=\"https://searchengineland.com/figz/wp-content/seloads/2014/07/foursquare-name-logo-ss-1920-600x337.jpg\" style=\"width:350px\">\n  \nThe Foursquare data comes from Foursquare's API. This database provides a list of businesses near a given location and categorizes each business based on the service it provides. For this project, businesses from each neighborhood will be extracted and used to determine the top ten business types within each neighborhood. These types will then be used to cluster neighborhoods into typologies.   \n\n<img src=\"https://nyintl.net/site/wp-content/uploads/2015/04/a-call-for-help-dial-311.jpg\" style=\"width:350px\"> \n  \nThe 311 Data comes from NYC's open data website. The dataset includes every 311 call with the subject of the call and the location where it was made. For this project, calls from each neighborhood will be extracted and used to determine the top ten requests made within each neighobrhood. Call requests will be used to cluster neighborhoods again to see how well the clustering based on Foursquare data matches the clustering based on 311 calls.  ", 
            "cell_type": "markdown", 
            "metadata": {}
        }, 
        {
            "execution_count": null, 
            "cell_type": "code", 
            "metadata": {}, 
            "outputs": [], 
            "source": ""
        }
    ], 
    "metadata": {
        "kernelspec": {
            "display_name": "Python 3.5", 
            "name": "python3", 
            "language": "python"
        }, 
        "language_info": {
            "mimetype": "text/x-python", 
            "nbconvert_exporter": "python", 
            "version": "3.5.5", 
            "name": "python", 
            "file_extension": ".py", 
            "pygments_lexer": "ipython3", 
            "codemirror_mode": {
                "version": 3, 
                "name": "ipython"
            }
        }
    }, 
    "nbformat": 4
}